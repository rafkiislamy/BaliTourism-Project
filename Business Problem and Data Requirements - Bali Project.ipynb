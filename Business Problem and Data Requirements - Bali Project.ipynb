{
 "cells": [
  {
   "cell_type": "markdown",
   "metadata": {},
   "source": [
    "<h2 align=\"center\"> Finding the Most Suitable Neighborhood to Visit in Bali, Indonesia </h2>\n",
    "<h3 align=\"center\"> Capstone Project - The Battle of Neighborhood </h3>\n",
    "<h3 align=\"center\"> IBM Data Science Professional Certification </h3>"
   ]
  },
  {
   "cell_type": "markdown",
   "metadata": {},
   "source": [
    "<h4> Author: Rafki Islamy </h4>"
   ]
  },
  {
   "cell_type": "markdown",
   "metadata": {},
   "source": [
    "### Introduction: Business Problem"
   ]
  },
  {
   "cell_type": "markdown",
   "metadata": {},
   "source": [
    "According to Bali Local Tourism Officer, about 16.83 million of tourists come to Bali in 2019. Along with that number, 6.28 million of them are foreign tourists who come from various countries in the world. The number of visitor has grown significantly and has the potential to grow bigger in the future, with exception of pandemic period that would make a correction.\n",
    "\n",
    "The number of tourist to Bali, which is expected to increase, will also result in an increase in the variation of tourist preferences for the place or area they want to visit. This may happen because each group of tourist has different demographics that affect the choice a particular place or area. For example, the tourist from non-tropical countries have a tendency to visit the uptown area with a view of forest or ricefield, the asian tourist is more likely visit the area which have the asian cuisine in surroundings, or the local tourist that tend to visit the shopping area. In this current condition, sometimes tourists don't have a clue on which place are the most suitable for them to visit in Bali. Therefore, in some case they don't get the best experience in Bali. \n",
    "\n",
    "This final project explores several areas in Bali to identify the characteristics of each area based on the most common venues. The output of the analysis will be the recommendation for tourists or travel agent to help them seeking out the most suitable areas for them to visit, given the list of area/district in Bali. This analysis is also beneficial for investor by providing recommendation of areas/districts that might be suitable to open a specific business unit. So, this project will attempt to answer the questions \"Where is the most suitable areas/neighborhood to visit in Bali for each tourist?\" and \"Where should the investor open a specific business unit?"
   ]
  },
  {
   "cell_type": "markdown",
   "metadata": {},
   "source": [
    "### Data"
   ]
  },
  {
   "cell_type": "markdown",
   "metadata": {},
   "source": [
    "In order to answer the above question, there are several data related on Bali that are required, as shown below.\n",
    "1. Bali data containing the city and neighborhood, latitudes and longitudes. This data is used as the basis of analysis and to generate the Foursquare API requests. This data is obtained from the following data source: https://raw.githubusercontent.com/ArrayAccess/Indonesia-Postal-And-Area/master/data/csv/62/subDistricts.csv\n",
    "2. City size area in Bali. This data is used to generate radius value that is required while running the Foursquare API requests. This data is obtained from the following data source: https://en.wikipedia.org/wiki/List_of_districts_of_Bali\n",
    "3. All venues in Bali. This data is obtained from Foursquare API utilized via the request library in Python."
   ]
  }
 ],
 "metadata": {
  "kernelspec": {
   "display_name": "Python 3",
   "language": "python",
   "name": "python3"
  },
  "language_info": {
   "codemirror_mode": {
    "name": "ipython",
    "version": 3
   },
   "file_extension": ".py",
   "mimetype": "text/x-python",
   "name": "python",
   "nbconvert_exporter": "python",
   "pygments_lexer": "ipython3",
   "version": "3.8.5"
  }
 },
 "nbformat": 4,
 "nbformat_minor": 4
}
